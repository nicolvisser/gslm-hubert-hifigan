{
 "cells": [
  {
   "cell_type": "code",
   "execution_count": 1,
   "metadata": {},
   "outputs": [],
   "source": [
    "from config import ExperimentConfig"
   ]
  },
  {
   "cell_type": "code",
   "execution_count": 2,
   "metadata": {},
   "outputs": [],
   "source": [
    "from pathlib import Path\n",
    "from IPython.display import Audio, display\n",
    "import torchaudio\n",
    "from ipywidgets import interact\n",
    "from torchaudio.datasets import LIBRISPEECH"
   ]
  },
  {
   "cell_type": "code",
   "execution_count": 3,
   "metadata": {},
   "outputs": [],
   "source": [
    "output_dir = Path(ExperimentConfig.output_dir)"
   ]
  },
  {
   "cell_type": "code",
   "execution_count": 4,
   "metadata": {},
   "outputs": [],
   "source": [
    "wav_dirs = {}\n",
    "\n",
    "for path in output_dir.iterdir():\n",
    "    if path.is_dir():\n",
    "        n_units = int(str(path.name).split(\"-\")[1])\n",
    "        dp_lambda = int(str(path.name).split(\"-\")[3])\n",
    "        wav_dirs[(n_units, dp_lambda)] = path / \"wav_resynthesized\""
   ]
  },
  {
   "cell_type": "code",
   "execution_count": 5,
   "metadata": {},
   "outputs": [],
   "source": [
    "dataset = LIBRISPEECH(\n",
    "    \"/home/nicolvisser/datasets/\",\n",
    "    url=\"dev-clean\",\n",
    "    folder_in_archive=\"LibriSpeech\",\n",
    "    download=False,\n",
    ")"
   ]
  },
  {
   "cell_type": "code",
   "execution_count": 6,
   "metadata": {},
   "outputs": [],
   "source": [
    "list_n_units = sorted(list(set([n_units for n_units, dp_lambda in wav_dirs.keys()])))\n",
    "list_dp_lambda = sorted(list(set([dp_lambda for n_units, dp_lambda in wav_dirs.keys()])))"
   ]
  },
  {
   "cell_type": "code",
   "execution_count": 7,
   "metadata": {},
   "outputs": [
    {
     "data": {
      "application/vnd.jupyter.widget-view+json": {
       "model_id": "0147379d08c7436baab4a977b17109bc",
       "version_major": 2,
       "version_minor": 0
      },
      "text/plain": [
       "interactive(children=(Dropdown(description='n_units', options=(50, 100, 200), value=50), Dropdown(description=…"
      ]
     },
     "metadata": {},
     "output_type": "display_data"
    }
   ],
   "source": [
    "@interact(n_units=list_n_units, dp_lambda=list_dp_lambda, i=range(len(dataset)))\n",
    "def show(n_units, dp_lambda, i):\n",
    "    wav_dir = wav_dirs[(n_units, dp_lambda)]\n",
    "    path = (wav_dir / dataset.get_metadata(i)[0]).with_suffix(\".wav\")\n",
    "    wav, sr = torchaudio.load(path)\n",
    "    display(Audio(wav.squeeze(), rate=sr))"
   ]
  }
 ],
 "metadata": {
  "kernelspec": {
   "display_name": "gslm-hubert-hifigan",
   "language": "python",
   "name": "python3"
  },
  "language_info": {
   "codemirror_mode": {
    "name": "ipython",
    "version": 3
   },
   "file_extension": ".py",
   "mimetype": "text/x-python",
   "name": "python",
   "nbconvert_exporter": "python",
   "pygments_lexer": "ipython3",
   "version": "3.10.13"
  }
 },
 "nbformat": 4,
 "nbformat_minor": 2
}
